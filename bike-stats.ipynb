{
 "metadata": {
  "language_info": {
   "codemirror_mode": {
    "name": "ipython",
    "version": 3
   },
   "file_extension": ".py",
   "mimetype": "text/x-python",
   "name": "python",
   "nbconvert_exporter": "python",
   "pygments_lexer": "ipython3",
   "version": "3.8.5"
  },
  "orig_nbformat": 2,
  "kernelspec": {
   "name": "pythonjvsc74a57bd0155518cba6888961f3f1c24ec768073e79eecf351511db8e5a43fe4c4c70a8ea",
   "display_name": "Python 3.8.5 64-bit ('.venv': venv)"
  },
  "metadata": {
   "interpreter": {
    "hash": "155518cba6888961f3f1c24ec768073e79eecf351511db8e5a43fe4c4c70a8ea"
   }
  }
 },
 "nbformat": 4,
 "nbformat_minor": 2,
 "cells": [
  {
   "source": [
    "Data Analysis with Pandas - Cycle Share Dataset - Aseel Alzweri - 24.May.2021"
   ],
   "cell_type": "markdown",
   "metadata": {}
  },
  {
   "cell_type": "code",
   "execution_count": 2,
   "metadata": {},
   "outputs": [
    {
     "output_type": "stream",
     "name": "stderr",
     "text": [
      "b'Skipping line 50794: expected 12 fields, saw 20\\n'\n",
      "<class 'pandas.core.frame.DataFrame'>\n",
      "RangeIndex: 286857 entries, 0 to 286856\n",
      "Data columns (total 12 columns):\n",
      " #   Column             Non-Null Count   Dtype  \n",
      "---  ------             --------------   -----  \n",
      " 0   trip_id            286857 non-null  int64  \n",
      " 1   starttime          286857 non-null  object \n",
      " 2   stoptime           286857 non-null  object \n",
      " 3   bikeid             286857 non-null  object \n",
      " 4   tripduration       286857 non-null  float64\n",
      " 5   from_station_name  286857 non-null  object \n",
      " 6   to_station_name    286857 non-null  object \n",
      " 7   from_station_id    286857 non-null  object \n",
      " 8   to_station_id      286857 non-null  object \n",
      " 9   usertype           286857 non-null  object \n",
      " 10  gender             181557 non-null  object \n",
      " 11  birthyear          181553 non-null  float64\n",
      "dtypes: float64(2), int64(1), object(9)\n",
      "memory usage: 26.3+ MB\n"
     ]
    }
   ],
   "source": [
    "import pandas as pd\n",
    "df = pd.read_csv('./trip.csv', error_bad_lines=False)\n",
    "df.info()\n"
   ]
  },
  {
   "cell_type": "code",
   "execution_count": 3,
   "metadata": {},
   "outputs": [
    {
     "output_type": "execute_result",
     "data": {
      "text/plain": [
       "   trip_id         starttime          stoptime    bikeid  tripduration  \\\n",
       "0      431  10/13/2014 10:31  10/13/2014 10:48  SEA00298       985.935   \n",
       "1      432  10/13/2014 10:32  10/13/2014 10:48  SEA00195       926.375   \n",
       "2      433  10/13/2014 10:33  10/13/2014 10:48  SEA00486       883.831   \n",
       "3      434  10/13/2014 10:34  10/13/2014 10:48  SEA00333       865.937   \n",
       "4      435  10/13/2014 10:34  10/13/2014 10:49  SEA00202       923.923   \n",
       "5      436  10/13/2014 10:34  10/13/2014 10:47  SEA00337       808.805   \n",
       "6      437  10/13/2014 11:35  10/13/2014 11:45  SEA00202       596.715   \n",
       "7      438  10/13/2014 11:35  10/13/2014 11:45  SEA00311       592.131   \n",
       "8      439  10/13/2014 11:35  10/13/2014 11:45  SEA00486       586.347   \n",
       "9      440  10/13/2014 11:35  10/13/2014 11:45  SEA00434       587.634   \n",
       "\n",
       "                                   from_station_name  \\\n",
       "0                                2nd Ave & Spring St   \n",
       "1                                2nd Ave & Spring St   \n",
       "2                                2nd Ave & Spring St   \n",
       "3                                2nd Ave & Spring St   \n",
       "4                                2nd Ave & Spring St   \n",
       "5                                2nd Ave & Spring St   \n",
       "6  Occidental Park / Occidental Ave S & S Washing...   \n",
       "7  Occidental Park / Occidental Ave S & S Washing...   \n",
       "8  Occidental Park / Occidental Ave S & S Washing...   \n",
       "9  Occidental Park / Occidental Ave S & S Washing...   \n",
       "\n",
       "                                     to_station_name from_station_id  \\\n",
       "0  Occidental Park / Occidental Ave S & S Washing...          CBD-06   \n",
       "1  Occidental Park / Occidental Ave S & S Washing...          CBD-06   \n",
       "2  Occidental Park / Occidental Ave S & S Washing...          CBD-06   \n",
       "3  Occidental Park / Occidental Ave S & S Washing...          CBD-06   \n",
       "4  Occidental Park / Occidental Ave S & S Washing...          CBD-06   \n",
       "5  Occidental Park / Occidental Ave S & S Washing...          CBD-06   \n",
       "6  King Street Station Plaza / 2nd Ave Extension ...           PS-04   \n",
       "7  King Street Station Plaza / 2nd Ave Extension ...           PS-04   \n",
       "8  King Street Station Plaza / 2nd Ave Extension ...           PS-04   \n",
       "9  King Street Station Plaza / 2nd Ave Extension ...           PS-04   \n",
       "\n",
       "  to_station_id usertype  gender  birthyear  \n",
       "0         PS-04   Member    Male     1960.0  \n",
       "1         PS-04   Member    Male     1970.0  \n",
       "2         PS-04   Member  Female     1988.0  \n",
       "3         PS-04   Member  Female     1977.0  \n",
       "4         PS-04   Member    Male     1971.0  \n",
       "5         PS-04   Member    Male     1974.0  \n",
       "6         PS-05   Member    Male     1978.0  \n",
       "7         PS-05   Member    Male     1983.0  \n",
       "8         PS-05   Member  Female     1974.0  \n",
       "9         PS-05   Member    Male     1958.0  "
      ],
      "text/html": "<div>\n<style scoped>\n    .dataframe tbody tr th:only-of-type {\n        vertical-align: middle;\n    }\n\n    .dataframe tbody tr th {\n        vertical-align: top;\n    }\n\n    .dataframe thead th {\n        text-align: right;\n    }\n</style>\n<table border=\"1\" class=\"dataframe\">\n  <thead>\n    <tr style=\"text-align: right;\">\n      <th></th>\n      <th>trip_id</th>\n      <th>starttime</th>\n      <th>stoptime</th>\n      <th>bikeid</th>\n      <th>tripduration</th>\n      <th>from_station_name</th>\n      <th>to_station_name</th>\n      <th>from_station_id</th>\n      <th>to_station_id</th>\n      <th>usertype</th>\n      <th>gender</th>\n      <th>birthyear</th>\n    </tr>\n  </thead>\n  <tbody>\n    <tr>\n      <th>0</th>\n      <td>431</td>\n      <td>10/13/2014 10:31</td>\n      <td>10/13/2014 10:48</td>\n      <td>SEA00298</td>\n      <td>985.935</td>\n      <td>2nd Ave &amp; Spring St</td>\n      <td>Occidental Park / Occidental Ave S &amp; S Washing...</td>\n      <td>CBD-06</td>\n      <td>PS-04</td>\n      <td>Member</td>\n      <td>Male</td>\n      <td>1960.0</td>\n    </tr>\n    <tr>\n      <th>1</th>\n      <td>432</td>\n      <td>10/13/2014 10:32</td>\n      <td>10/13/2014 10:48</td>\n      <td>SEA00195</td>\n      <td>926.375</td>\n      <td>2nd Ave &amp; Spring St</td>\n      <td>Occidental Park / Occidental Ave S &amp; S Washing...</td>\n      <td>CBD-06</td>\n      <td>PS-04</td>\n      <td>Member</td>\n      <td>Male</td>\n      <td>1970.0</td>\n    </tr>\n    <tr>\n      <th>2</th>\n      <td>433</td>\n      <td>10/13/2014 10:33</td>\n      <td>10/13/2014 10:48</td>\n      <td>SEA00486</td>\n      <td>883.831</td>\n      <td>2nd Ave &amp; Spring St</td>\n      <td>Occidental Park / Occidental Ave S &amp; S Washing...</td>\n      <td>CBD-06</td>\n      <td>PS-04</td>\n      <td>Member</td>\n      <td>Female</td>\n      <td>1988.0</td>\n    </tr>\n    <tr>\n      <th>3</th>\n      <td>434</td>\n      <td>10/13/2014 10:34</td>\n      <td>10/13/2014 10:48</td>\n      <td>SEA00333</td>\n      <td>865.937</td>\n      <td>2nd Ave &amp; Spring St</td>\n      <td>Occidental Park / Occidental Ave S &amp; S Washing...</td>\n      <td>CBD-06</td>\n      <td>PS-04</td>\n      <td>Member</td>\n      <td>Female</td>\n      <td>1977.0</td>\n    </tr>\n    <tr>\n      <th>4</th>\n      <td>435</td>\n      <td>10/13/2014 10:34</td>\n      <td>10/13/2014 10:49</td>\n      <td>SEA00202</td>\n      <td>923.923</td>\n      <td>2nd Ave &amp; Spring St</td>\n      <td>Occidental Park / Occidental Ave S &amp; S Washing...</td>\n      <td>CBD-06</td>\n      <td>PS-04</td>\n      <td>Member</td>\n      <td>Male</td>\n      <td>1971.0</td>\n    </tr>\n    <tr>\n      <th>5</th>\n      <td>436</td>\n      <td>10/13/2014 10:34</td>\n      <td>10/13/2014 10:47</td>\n      <td>SEA00337</td>\n      <td>808.805</td>\n      <td>2nd Ave &amp; Spring St</td>\n      <td>Occidental Park / Occidental Ave S &amp; S Washing...</td>\n      <td>CBD-06</td>\n      <td>PS-04</td>\n      <td>Member</td>\n      <td>Male</td>\n      <td>1974.0</td>\n    </tr>\n    <tr>\n      <th>6</th>\n      <td>437</td>\n      <td>10/13/2014 11:35</td>\n      <td>10/13/2014 11:45</td>\n      <td>SEA00202</td>\n      <td>596.715</td>\n      <td>Occidental Park / Occidental Ave S &amp; S Washing...</td>\n      <td>King Street Station Plaza / 2nd Ave Extension ...</td>\n      <td>PS-04</td>\n      <td>PS-05</td>\n      <td>Member</td>\n      <td>Male</td>\n      <td>1978.0</td>\n    </tr>\n    <tr>\n      <th>7</th>\n      <td>438</td>\n      <td>10/13/2014 11:35</td>\n      <td>10/13/2014 11:45</td>\n      <td>SEA00311</td>\n      <td>592.131</td>\n      <td>Occidental Park / Occidental Ave S &amp; S Washing...</td>\n      <td>King Street Station Plaza / 2nd Ave Extension ...</td>\n      <td>PS-04</td>\n      <td>PS-05</td>\n      <td>Member</td>\n      <td>Male</td>\n      <td>1983.0</td>\n    </tr>\n    <tr>\n      <th>8</th>\n      <td>439</td>\n      <td>10/13/2014 11:35</td>\n      <td>10/13/2014 11:45</td>\n      <td>SEA00486</td>\n      <td>586.347</td>\n      <td>Occidental Park / Occidental Ave S &amp; S Washing...</td>\n      <td>King Street Station Plaza / 2nd Ave Extension ...</td>\n      <td>PS-04</td>\n      <td>PS-05</td>\n      <td>Member</td>\n      <td>Female</td>\n      <td>1974.0</td>\n    </tr>\n    <tr>\n      <th>9</th>\n      <td>440</td>\n      <td>10/13/2014 11:35</td>\n      <td>10/13/2014 11:45</td>\n      <td>SEA00434</td>\n      <td>587.634</td>\n      <td>Occidental Park / Occidental Ave S &amp; S Washing...</td>\n      <td>King Street Station Plaza / 2nd Ave Extension ...</td>\n      <td>PS-04</td>\n      <td>PS-05</td>\n      <td>Member</td>\n      <td>Male</td>\n      <td>1958.0</td>\n    </tr>\n  </tbody>\n</table>\n</div>"
     },
     "metadata": {},
     "execution_count": 3
    }
   ],
   "source": [
    "df.head(10)"
   ]
  },
  {
   "cell_type": "code",
   "execution_count": 4,
   "metadata": {},
   "outputs": [
    {
     "output_type": "execute_result",
     "data": {
      "text/plain": [
       "1178.2956753399776"
      ]
     },
     "metadata": {},
     "execution_count": 4
    }
   ],
   "source": [
    "# What is the average trip duration for a borrowed bicycle?\n",
    "avg_trip_duration = df['tripduration'].mean()\n",
    "avg_trip_duration\n"
   ]
  },
  {
   "cell_type": "code",
   "execution_count": 7,
   "metadata": {},
   "outputs": [
    {
     "output_type": "execute_result",
     "data": {
      "text/plain": [
       "0    34.0\n",
       "dtype: float64"
      ]
     },
     "metadata": {},
     "execution_count": 7
    }
   ],
   "source": [
    "# What’s the most common age of a bicycle-sharer?\n",
    "common_age =  2021 - df['birthyear'].mode()\n",
    "common_age\n"
   ]
  },
  {
   "cell_type": "code",
   "execution_count": 64,
   "metadata": {},
   "outputs": [
    {
     "output_type": "execute_result",
     "data": {
      "text/plain": [
       "        Date  Max_Temperature_F  Mean_Temperature_F  Min_TemperatureF  \\\n",
       "0 2014-10-13                 71                62.0                54   \n",
       "1 2014-10-14                 63                59.0                55   \n",
       "2 2014-10-15                 62                58.0                54   \n",
       "3 2014-10-16                 71                61.0                52   \n",
       "4 2014-10-17                 64                60.0                57   \n",
       "\n",
       "   Max_Dew_Point_F  MeanDew_Point_F  Min_Dewpoint_F  Max_Humidity  \\\n",
       "0               55               51              46            87   \n",
       "1               52               51              50            88   \n",
       "2               53               50              46            87   \n",
       "3               49               46              42            83   \n",
       "4               55               51              41            87   \n",
       "\n",
       "   Mean_Humidity  Min_Humidity  ...  Mean_Sea_Level_Pressure_In  \\\n",
       "0             68            46  ...                       29.79   \n",
       "1             78            63  ...                       29.75   \n",
       "2             77            67  ...                       29.71   \n",
       "3             61            36  ...                       29.95   \n",
       "4             72            46  ...                       29.78   \n",
       "\n",
       "   Min_Sea_Level_Pressure_In  Max_Visibility_Miles  Mean_Visibility_Miles  \\\n",
       "0                      29.65                    10                     10   \n",
       "1                      29.54                    10                      9   \n",
       "2                      29.51                    10                      9   \n",
       "3                      29.81                    10                     10   \n",
       "4                      29.73                    10                     10   \n",
       "\n",
       "   Min_Visibility_Miles  Max_Wind_Speed_MPH  Mean_Wind_Speed_MPH  \\\n",
       "0                     4                  13                    4   \n",
       "1                     3                  10                    5   \n",
       "2                     3                  18                    7   \n",
       "3                    10                   9                    4   \n",
       "4                     6                   8                    3   \n",
       "\n",
       "   Max_Gust_Speed_MPH Precipitation_In  Events  \n",
       "0                  21             0.00    Rain  \n",
       "1                  17             0.11    Rain  \n",
       "2                  25             0.45    Rain  \n",
       "3                   -             0.00    Rain  \n",
       "4                   -             0.14    Rain  \n",
       "\n",
       "[5 rows x 21 columns]"
      ],
      "text/html": "<div>\n<style scoped>\n    .dataframe tbody tr th:only-of-type {\n        vertical-align: middle;\n    }\n\n    .dataframe tbody tr th {\n        vertical-align: top;\n    }\n\n    .dataframe thead th {\n        text-align: right;\n    }\n</style>\n<table border=\"1\" class=\"dataframe\">\n  <thead>\n    <tr style=\"text-align: right;\">\n      <th></th>\n      <th>Date</th>\n      <th>Max_Temperature_F</th>\n      <th>Mean_Temperature_F</th>\n      <th>Min_TemperatureF</th>\n      <th>Max_Dew_Point_F</th>\n      <th>MeanDew_Point_F</th>\n      <th>Min_Dewpoint_F</th>\n      <th>Max_Humidity</th>\n      <th>Mean_Humidity</th>\n      <th>Min_Humidity</th>\n      <th>...</th>\n      <th>Mean_Sea_Level_Pressure_In</th>\n      <th>Min_Sea_Level_Pressure_In</th>\n      <th>Max_Visibility_Miles</th>\n      <th>Mean_Visibility_Miles</th>\n      <th>Min_Visibility_Miles</th>\n      <th>Max_Wind_Speed_MPH</th>\n      <th>Mean_Wind_Speed_MPH</th>\n      <th>Max_Gust_Speed_MPH</th>\n      <th>Precipitation_In</th>\n      <th>Events</th>\n    </tr>\n  </thead>\n  <tbody>\n    <tr>\n      <th>0</th>\n      <td>2014-10-13</td>\n      <td>71</td>\n      <td>62.0</td>\n      <td>54</td>\n      <td>55</td>\n      <td>51</td>\n      <td>46</td>\n      <td>87</td>\n      <td>68</td>\n      <td>46</td>\n      <td>...</td>\n      <td>29.79</td>\n      <td>29.65</td>\n      <td>10</td>\n      <td>10</td>\n      <td>4</td>\n      <td>13</td>\n      <td>4</td>\n      <td>21</td>\n      <td>0.00</td>\n      <td>Rain</td>\n    </tr>\n    <tr>\n      <th>1</th>\n      <td>2014-10-14</td>\n      <td>63</td>\n      <td>59.0</td>\n      <td>55</td>\n      <td>52</td>\n      <td>51</td>\n      <td>50</td>\n      <td>88</td>\n      <td>78</td>\n      <td>63</td>\n      <td>...</td>\n      <td>29.75</td>\n      <td>29.54</td>\n      <td>10</td>\n      <td>9</td>\n      <td>3</td>\n      <td>10</td>\n      <td>5</td>\n      <td>17</td>\n      <td>0.11</td>\n      <td>Rain</td>\n    </tr>\n    <tr>\n      <th>2</th>\n      <td>2014-10-15</td>\n      <td>62</td>\n      <td>58.0</td>\n      <td>54</td>\n      <td>53</td>\n      <td>50</td>\n      <td>46</td>\n      <td>87</td>\n      <td>77</td>\n      <td>67</td>\n      <td>...</td>\n      <td>29.71</td>\n      <td>29.51</td>\n      <td>10</td>\n      <td>9</td>\n      <td>3</td>\n      <td>18</td>\n      <td>7</td>\n      <td>25</td>\n      <td>0.45</td>\n      <td>Rain</td>\n    </tr>\n    <tr>\n      <th>3</th>\n      <td>2014-10-16</td>\n      <td>71</td>\n      <td>61.0</td>\n      <td>52</td>\n      <td>49</td>\n      <td>46</td>\n      <td>42</td>\n      <td>83</td>\n      <td>61</td>\n      <td>36</td>\n      <td>...</td>\n      <td>29.95</td>\n      <td>29.81</td>\n      <td>10</td>\n      <td>10</td>\n      <td>10</td>\n      <td>9</td>\n      <td>4</td>\n      <td>-</td>\n      <td>0.00</td>\n      <td>Rain</td>\n    </tr>\n    <tr>\n      <th>4</th>\n      <td>2014-10-17</td>\n      <td>64</td>\n      <td>60.0</td>\n      <td>57</td>\n      <td>55</td>\n      <td>51</td>\n      <td>41</td>\n      <td>87</td>\n      <td>72</td>\n      <td>46</td>\n      <td>...</td>\n      <td>29.78</td>\n      <td>29.73</td>\n      <td>10</td>\n      <td>10</td>\n      <td>6</td>\n      <td>8</td>\n      <td>3</td>\n      <td>-</td>\n      <td>0.14</td>\n      <td>Rain</td>\n    </tr>\n  </tbody>\n</table>\n<p>5 rows × 21 columns</p>\n</div>"
     },
     "metadata": {},
     "execution_count": 64
    }
   ],
   "source": [
    "# Given all the weather data here, find the average precipitation per month, and the median precipitation.\n",
    "weather_df = pd.read_csv('weather.csv')\n",
    "weather_df['Date'] = pd.to_datetime(weather_df['Date'], format= \"%m/%d/%Y\")\n",
    "weather_df.head(5)"
   ]
  },
  {
   "cell_type": "code",
   "execution_count": 69,
   "metadata": {},
   "outputs": [
    {
     "output_type": "stream",
     "name": "stdout",
     "text": [
      "avg_precipitation_monthDate\n2014-10-13    0.00\n2014-10-14    0.11\n2014-10-15    0.45\n2014-10-16    0.00\n2014-10-17    0.14\n              ... \n2016-08-27    0.00\n2016-08-28    0.00\n2016-08-29    0.00\n2016-08-30    0.00\n2016-08-31    0.00\nName: Precipitation_In, Length: 689, dtype: float64\nmedian_precipitation_month0.0\n"
     ]
    }
   ],
   "source": [
    "# avg_precipitaion = weather_df['Precipitation_In']\n",
    "\n",
    "# df['month'] = pd.DatetimeIndex(weather_df['Date']).month\n",
    "\n",
    "avg_precipitation_month = weather_df.groupby('Date')['Precipitation_In'].mean()\n",
    "median_precipitation_month = weather_df['Precipitation_In'].median()\n",
    "print(f'avg_precipitation_month{avg_precipitation_month}')\n",
    "print(f'median_precipitation_month{median_precipitation_month}')"
   ]
  },
  {
   "cell_type": "code",
   "execution_count": 77,
   "metadata": {},
   "outputs": [
    {
     "output_type": "stream",
     "name": "stdout",
     "text": [
      "average number of bikes at a given bike station\n"
     ]
    },
    {
     "output_type": "execute_result",
     "data": {
      "text/plain": [
       "name\n",
       "12th Ave & E Denny Way                                                    16\n",
       "12th Ave & E Mercer St                                                    16\n",
       "12th Ave & E Yesler Way                                                    0\n",
       "12th Ave & NE Campus Pkwy                                                 16\n",
       "15th Ave E & E Thomas St                                                  16\n",
       "15th Ave NE & NE 40th St                                                  16\n",
       "1st Ave & Marion St                                                       20\n",
       "2nd Ave & Blanchard St                                                    14\n",
       "2nd Ave & Pine St                                                         18\n",
       "2nd Ave & Spring St                                                       18\n",
       "2nd Ave & Vine St                                                         16\n",
       "3rd Ave & Broad St                                                        18\n",
       "6th Ave & Blanchard St                                                    16\n",
       "6th Ave S & S King St                                                     16\n",
       "7th Ave & Union St                                                        20\n",
       "9th Ave N & Mercer St                                                     18\n",
       "Bellevue Ave & E Pine St                                                  14\n",
       "Broadway and E Denny Way                                                  18\n",
       "Burke Museum / E Stevens Way NE & Memorial Way NE                         14\n",
       "Burke-Gilman Trail / NE Blakeley St & 24th Ave NE                         18\n",
       "Cal Anderson Park / 11th Ave & Pine St                                    26\n",
       "Children's Hospital / Sandpoint Way NE & 40th Ave NE                      24\n",
       "City Hall / 4th Ave & James St                                            20\n",
       "Dexter Ave & Denny Way                                                     0\n",
       "Dexter Ave N & Aloha St                                                   18\n",
       "E Blaine St & Fairview Ave E                                              18\n",
       "E Harrison St & Broadway Ave E                                            20\n",
       "E Pine St & 16th Ave                                                      18\n",
       "Eastlake Ave E & E Allison St                                             18\n",
       "Fred Hutchinson Cancer Research Center / Fairview Ave N & Ward St         16\n",
       "Frye Art Museum / Terry Ave & Columbia St                                  0\n",
       "Harvard Ave & E Pine St                                                   16\n",
       "Key Arena / 1st Ave N & Harrison St                                       16\n",
       "King Street Station Plaza / 2nd Ave Extension S & S Jackson St            18\n",
       "Lake Union Park / Valley St & Boren Ave N                                 16\n",
       "Mercer St & 9th Ave N                                                     20\n",
       "NE 42nd St & University Way NE                                            18\n",
       "NE 47th St & 12th Ave NE                                                  16\n",
       "NE Pacific St/UW Medical Center                                           16\n",
       "Occidental Park / Occidental Ave S & S Washington St                      18\n",
       "PATH / 9th Ave & Westlake Ave                                             18\n",
       "Pier 66 / Alaskan Way & Bell St                                           18\n",
       "Pier 69 / Alaskan Way & Clay St                                           24\n",
       "Pine St & 9th Ave                                                         20\n",
       "REI / Yale Ave N & John St                                                20\n",
       "Republican St & Westlake Ave N                                            18\n",
       "Seattle Aquarium / Alaskan Way S & Elliott Bay Trail                      18\n",
       "Seattle University / E Columbia St & 12th Ave                             20\n",
       "Summit Ave & E Denny Way                                                  16\n",
       "Summit Ave E & E Republican St                                            16\n",
       "Terry Ave & Stewart St                                                    20\n",
       "Thomas St & 5th Ave N                                                     18\n",
       "UW Engineering Library / E Stevens Way NE & Jefferson Rd                  14\n",
       "UW Intramural Activities Building                                         14\n",
       "UW Magnuson Health Sciences Center Rotunda / Columbia Rd & San Juan Rd    16\n",
       "UW McCarty Hall / Whitman Ct                                               0\n",
       "Union St & 4th Ave                                                        18\n",
       "Westlake Ave & 6th Ave                                                    20\n",
       "Name: current_dockcount, dtype: int64"
      ]
     },
     "metadata": {},
     "execution_count": 77
    }
   ],
   "source": [
    "# What’s the average number of bikes at a given bike station?\n",
    "station_df = pd.read_csv('station.csv')\n",
    "\n",
    "print('average number of bikes at a given bike station')\n",
    "station_df.groupby('name')['current_dockcount'].mean()"
   ]
  },
  {
   "cell_type": "code",
   "execution_count": 87,
   "metadata": {},
   "outputs": [
    {
     "output_type": "stream",
     "name": "stdout",
     "text": [
      " A station is more likely to lose bikes when it`s modified\n"
     ]
    },
    {
     "output_type": "execute_result",
     "data": {
      "text/plain": [
       "                         lat        long  install_dockcount  current_dockcount\n",
       "modification_date                                                             \n",
       "10/29/2015         47.660268 -122.304826          16.000000                0.0\n",
       "11/2/2015          47.618285 -122.342205          20.000000                0.0\n",
       "11/9/2015          47.605950 -122.335768          20.000000               18.0\n",
       "2/20/2015          47.655918 -122.307329          15.500000               14.5\n",
       "2/23/2015          47.626041 -122.335831          18.000000               16.0\n",
       "2/24/2015          47.619136 -122.323267          21.333333               22.0\n",
       "3/13/2015          47.613628 -122.337341          12.000000               20.0\n",
       "3/18/2016          47.607281 -122.324783          16.000000                0.0\n",
       "3/24/2015          47.663509 -122.284119          30.000000               24.0\n",
       "3/27/2015          47.627643 -122.332576          12.000000               16.0\n",
       "3/4/2015           47.622277 -122.355230          12.000000               16.0\n",
       "8/9/2016           47.602103 -122.316923          16.000000                0.0"
      ],
      "text/html": "<div>\n<style scoped>\n    .dataframe tbody tr th:only-of-type {\n        vertical-align: middle;\n    }\n\n    .dataframe tbody tr th {\n        vertical-align: top;\n    }\n\n    .dataframe thead th {\n        text-align: right;\n    }\n</style>\n<table border=\"1\" class=\"dataframe\">\n  <thead>\n    <tr style=\"text-align: right;\">\n      <th></th>\n      <th>lat</th>\n      <th>long</th>\n      <th>install_dockcount</th>\n      <th>current_dockcount</th>\n    </tr>\n    <tr>\n      <th>modification_date</th>\n      <th></th>\n      <th></th>\n      <th></th>\n      <th></th>\n    </tr>\n  </thead>\n  <tbody>\n    <tr>\n      <th>10/29/2015</th>\n      <td>47.660268</td>\n      <td>-122.304826</td>\n      <td>16.000000</td>\n      <td>0.0</td>\n    </tr>\n    <tr>\n      <th>11/2/2015</th>\n      <td>47.618285</td>\n      <td>-122.342205</td>\n      <td>20.000000</td>\n      <td>0.0</td>\n    </tr>\n    <tr>\n      <th>11/9/2015</th>\n      <td>47.605950</td>\n      <td>-122.335768</td>\n      <td>20.000000</td>\n      <td>18.0</td>\n    </tr>\n    <tr>\n      <th>2/20/2015</th>\n      <td>47.655918</td>\n      <td>-122.307329</td>\n      <td>15.500000</td>\n      <td>14.5</td>\n    </tr>\n    <tr>\n      <th>2/23/2015</th>\n      <td>47.626041</td>\n      <td>-122.335831</td>\n      <td>18.000000</td>\n      <td>16.0</td>\n    </tr>\n    <tr>\n      <th>2/24/2015</th>\n      <td>47.619136</td>\n      <td>-122.323267</td>\n      <td>21.333333</td>\n      <td>22.0</td>\n    </tr>\n    <tr>\n      <th>3/13/2015</th>\n      <td>47.613628</td>\n      <td>-122.337341</td>\n      <td>12.000000</td>\n      <td>20.0</td>\n    </tr>\n    <tr>\n      <th>3/18/2016</th>\n      <td>47.607281</td>\n      <td>-122.324783</td>\n      <td>16.000000</td>\n      <td>0.0</td>\n    </tr>\n    <tr>\n      <th>3/24/2015</th>\n      <td>47.663509</td>\n      <td>-122.284119</td>\n      <td>30.000000</td>\n      <td>24.0</td>\n    </tr>\n    <tr>\n      <th>3/27/2015</th>\n      <td>47.627643</td>\n      <td>-122.332576</td>\n      <td>12.000000</td>\n      <td>16.0</td>\n    </tr>\n    <tr>\n      <th>3/4/2015</th>\n      <td>47.622277</td>\n      <td>-122.355230</td>\n      <td>12.000000</td>\n      <td>16.0</td>\n    </tr>\n    <tr>\n      <th>8/9/2016</th>\n      <td>47.602103</td>\n      <td>-122.316923</td>\n      <td>16.000000</td>\n      <td>0.0</td>\n    </tr>\n  </tbody>\n</table>\n</div>"
     },
     "metadata": {},
     "execution_count": 87
    }
   ],
   "source": [
    "# When a bike station is modified, is it more likely that it’ll lose bikes or gain bikes? How do you know?\n",
    "# station_df.head(20)\n",
    "print(' A station is more likely to lose bikes when it`s modified')\n",
    "station_df.groupby('modification_date').mean('current_dockcount')\n"
   ]
  },
  {
   "source": [
    "#### Come up with 3 more questions that can be answered with this data set.\n",
    "- What is the bike station with highest number of bikes?\n",
    "- What is the max temperature in year 2014?\n",
    "- What is the bike station that recorded the minimum trip travel? what is the record date ?\n"
   ],
   "cell_type": "markdown",
   "metadata": {}
  },
  {
   "cell_type": "code",
   "execution_count": 90,
   "metadata": {},
   "outputs": [
    {
     "output_type": "stream",
     "name": "stdout",
     "text": [
      "Success!!!\n"
     ]
    }
   ],
   "source": [
    "def test():\n",
    "\n",
    "    def assert_equal(actual,expected):\n",
    "        assert actual == expected, f\"Expected {expected} but got {actual}\"\n",
    "\n",
    "    assert_equal(avg_trip_duration, 1178.2956753399776 )\n",
    "    assert_equal(common_age[0], 34.0)\n",
    "\n",
    "    print(\"Success!!!\")\n",
    "\n",
    "test()"
   ]
  },
  {
   "cell_type": "code",
   "execution_count": null,
   "metadata": {},
   "outputs": [],
   "source": []
  }
 ]
}